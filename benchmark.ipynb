{
  "nbformat": 4,
  "nbformat_minor": 0,
  "metadata": {
    "colab": {
      "name": "benchmark.ipynb",
      "provenance": [],
      "collapsed_sections": []
    },
    "kernelspec": {
      "name": "python3",
      "display_name": "Python 3"
    },
    "language_info": {
      "name": "python"
    }
  },
  "cells": [
    {
      "cell_type": "code",
      "metadata": {
        "colab": {
          "base_uri": "https://localhost:8080/"
        },
        "id": "p6d_OkWwTs80",
        "outputId": "d3e8f02d-db35-4b17-a887-296818bc1862"
      },
      "source": [
        "import os\n",
        "from google.colab import drive\n",
        "# Authenticate for google drive integration\n",
        "drive.mount('/gdrive/',force_remount=True)"
      ],
      "execution_count": 1,
      "outputs": [
        {
          "output_type": "stream",
          "text": [
            "Mounted at /gdrive/\n"
          ],
          "name": "stdout"
        }
      ]
    },
    {
      "cell_type": "code",
      "metadata": {
        "id": "MX5cz__eTvps"
      },
      "source": [
        "import os\n",
        "os.chdir(\"/gdrive/My Drive/EDAMI_PROJECT_GR_7\")"
      ],
      "execution_count": 2,
      "outputs": []
    },
    {
      "cell_type": "code",
      "metadata": {
        "colab": {
          "base_uri": "https://localhost:8080/"
        },
        "id": "myVWpyurUaZy",
        "outputId": "00c7a6e3-5af6-481b-e697-404646730d74"
      },
      "source": [
        "!pip install hdbscan"
      ],
      "execution_count": 3,
      "outputs": [
        {
          "output_type": "stream",
          "text": [
            "Requirement already satisfied: hdbscan in /usr/local/lib/python3.7/dist-packages (0.8.27)\n",
            "Requirement already satisfied: scipy>=1.0 in /usr/local/lib/python3.7/dist-packages (from hdbscan) (1.4.1)\n",
            "Requirement already satisfied: six in /usr/local/lib/python3.7/dist-packages (from hdbscan) (1.15.0)\n",
            "Requirement already satisfied: joblib>=1.0 in /usr/local/lib/python3.7/dist-packages (from hdbscan) (1.0.1)\n",
            "Requirement already satisfied: numpy>=1.16 in /usr/local/lib/python3.7/dist-packages (from hdbscan) (1.19.5)\n",
            "Requirement already satisfied: scikit-learn>=0.20 in /usr/local/lib/python3.7/dist-packages (from hdbscan) (0.22.2.post1)\n",
            "Requirement already satisfied: cython>=0.27 in /usr/local/lib/python3.7/dist-packages (from hdbscan) (0.29.23)\n"
          ],
          "name": "stdout"
        }
      ]
    },
    {
      "cell_type": "code",
      "metadata": {
        "id": "PFBWoIK9Twxt"
      },
      "source": [
        "from custom_dbscan import DBSCAN\n",
        "import hdbscan\n",
        "from sklearn.cluster import make_blobs\n",
        "import sklearn.datasets\n",
        "import numpy as np\n",
        "import pandas as pd\n",
        "import time\n",
        "import matplotlib.pyplot as plt\n",
        "import seaborn as sns\n"
      ],
      "execution_count": 3,
      "outputs": []
    },
    {
      "cell_type": "code",
      "metadata": {
        "id": "6NV1UuYbe4R4"
      },
      "source": [
        "def benchmark(dataset_sizes,dataset_dimension,cluster_function, kwargs ):\n",
        "\n",
        "  time_takens = []\n",
        "\n",
        "  for size in dataset_sizes:\n",
        "\n",
        "    data, _ = sklearn.datasets.make_blobs(n_samples=size, \n",
        "                                                        n_features=dataset_dimension, \n",
        "                                                        centers=5)\n",
        "    start_time = time.time()\n",
        "    cluster_function(data, **kwargs)\n",
        "    time_taken = time.time() - start_time\n",
        "    time_takens.append(round(time_taken,6))\n",
        "\n",
        "  return time_takens"
      ],
      "execution_count": 59,
      "outputs": []
    },
    {
      "cell_type": "code",
      "metadata": {
        "id": "Ukvf_j6vh2kW"
      },
      "source": [
        ""
      ],
      "execution_count": 37,
      "outputs": []
    },
    {
      "cell_type": "code",
      "metadata": {
        "id": "58Z5ZbCJlU73"
      },
      "source": [
        "dataset_sizes = np.array([500,1000,5000,10000])"
      ],
      "execution_count": 91,
      "outputs": []
    },
    {
      "cell_type": "markdown",
      "metadata": {
        "id": "vbC4Cjtzm4h_"
      },
      "source": [
        "## DBSCAN custom\n"
      ]
    },
    {
      "cell_type": "code",
      "metadata": {
        "id": "ftuyXqOfm68M"
      },
      "source": [
        "kwargs ={\"Eps\":1.31, \"MinPt\":5}\n",
        "custom_dbscan = DBSCAN()\n",
        "times_db = benchmark(dataset_sizes,2,custom_dbscan.fit,kwargs)\n",
        "times_db"
      ],
      "execution_count": null,
      "outputs": []
    },
    {
      "cell_type": "markdown",
      "metadata": {
        "id": "0jH6fugqm3Gb"
      },
      "source": [
        "## DBSCAN sklearn"
      ]
    },
    {
      "cell_type": "code",
      "metadata": {
        "colab": {
          "base_uri": "https://localhost:8080/"
        },
        "id": "Mn7VpBagmF3O",
        "outputId": "db5c010a-866a-4163-ffb1-97659645f6ce"
      },
      "source": [
        "dbscan_sk = sklearn.cluster.DBSCAN(eps=1.31, min_samples=5)\n",
        "times_db_sklearn = benchmark(dataset_sizes,2,dbscan_sk.fit,{})\n",
        "times_db_sklearn"
      ],
      "execution_count": 87,
      "outputs": [
        {
          "output_type": "execute_result",
          "data": {
            "text/plain": [
              "[0.006657, 0.009748, 0.024728, 0.057215, 0.470227]"
            ]
          },
          "metadata": {
            "tags": []
          },
          "execution_count": 87
        }
      ]
    },
    {
      "cell_type": "markdown",
      "metadata": {
        "id": "2nlvPFr9md26"
      },
      "source": [
        "## HDBSCAN"
      ]
    },
    {
      "cell_type": "code",
      "metadata": {
        "colab": {
          "base_uri": "https://localhost:8080/"
        },
        "id": "Elmq0uKMjaqr",
        "outputId": "a9cb2950-369a-462c-c7dd-40906b2a8637"
      },
      "source": [
        "hdbscan_ = hdbscan.HDBSCAN()\n",
        "times_hdb = benchmark(dataset_sizes,2,hdbscan_.fit,{})\n",
        "times_hdb"
      ],
      "execution_count": 88,
      "outputs": [
        {
          "output_type": "execute_result",
          "data": {
            "text/plain": [
              "[0.013884, 0.019707, 0.041431, 0.063288, 0.249938]"
            ]
          },
          "metadata": {
            "tags": []
          },
          "execution_count": 88
        }
      ]
    },
    {
      "cell_type": "code",
      "metadata": {
        "id": "l9JNvHy_gSWr"
      },
      "source": [
        ""
      ],
      "execution_count": null,
      "outputs": []
    },
    {
      "cell_type": "code",
      "metadata": {
        "colab": {
          "base_uri": "https://localhost:8080/",
          "height": 313
        },
        "id": "Z78iQk27ZixU",
        "outputId": "6619342b-c901-4b5b-f0a6-d582f2a82a08"
      },
      "source": [
        "sns.regplot(x=dataset_sizes, y= times_db, label = 'Custom DBSCAN')\n",
        "sns.regplot(x=dataset_sizes,y=times_db_sklearn,'Sklearn DBSCAN')\n",
        "sns.regplot(x=dataset_sizes, y= times_hdb, 'HDBSCAN')\n",
        "plt.gca().set_xlabel(\"Dataset's size\")\n",
        "plt.gca().set_ylabel('Time taken to cluster (s)')\n",
        "plt.title('Performance Comparison of DBSCAN Algorithms')\n",
        "plt.legend()"
      ],
      "execution_count": 90,
      "outputs": [
        {
          "output_type": "execute_result",
          "data": {
            "text/plain": [
              "Text(0.5, 1.0, 'Performance Comparison of DBSCAN Algorithms')"
            ]
          },
          "metadata": {
            "tags": []
          },
          "execution_count": 90
        },
        {
          "output_type": "display_data",
          "data": {
            "image/png": "[encoded data removed]",
            "text/plain": [
              "<Figure size 432x288 with 1 Axes>"
            ]
          },
          "metadata": {
            "tags": [],
            "needs_background": "light"
          }
        }
      ]
    }
  ]
}