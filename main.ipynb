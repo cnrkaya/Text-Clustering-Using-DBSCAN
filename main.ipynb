{
  "nbformat": 4,
  "nbformat_minor": 0,
  "metadata": {
    "colab": {
      "name": "DBSCAN_2.ipynb",
      "provenance": [],
      "collapsed_sections": [
        "H4VwuwmzDZex",
        "vUS8CwugJQfS",
        "MEmpTc4yKRq3",
        "Z3NFo4fkKZyN",
        "rOQKfuVvw6V8",
        "kDQq2GGHwsVK",
        "v3IckSLk6Cpc",
        "nQ5iognQ6dfa",
        "uF1DDNoM6fwk"
      ],
      "toc_visible": true
    },
    "kernelspec": {
      "display_name": "Python 3",
      "name": "python3"
    },
    "language_info": {
      "name": "python"
    }
  },
  "cells": [
    {
      "cell_type": "markdown",
      "metadata": {
        "id": "H4VwuwmzDZex"
      },
      "source": [
        "# Colab Environment Settings"
      ]
    },
    {
      "cell_type": "code",
      "metadata": {
        "id": "1DuqnBtABf8g",
        "colab": {
          "base_uri": "https://localhost:8080/"
        },
        "outputId": "322e274c-c859-469b-f6b8-73e21b881a0a"
      },
      "source": [
        "import os\n",
        "from google.colab import drive\n",
        "# Authenticate for google drive integration\n",
        "drive.mount('/gdrive/',force_remount=True)"
      ],
      "execution_count": 106,
      "outputs": [
        {
          "output_type": "stream",
          "text": [
            "Mounted at /gdrive/\n"
          ],
          "name": "stdout"
        }
      ]
    },
    {
      "cell_type": "code",
      "metadata": {
        "id": "guwXPcAaBkOj"
      },
      "source": [
        "import os\n",
        "os.chdir(\"/gdrive/My Drive/EDAMI_PROJECT_GR_7\")"
      ],
      "execution_count": 107,
      "outputs": []
    },
    {
      "cell_type": "markdown",
      "metadata": {
        "id": "zNIrHZUODWiY"
      },
      "source": [
        "# Reading Dataset"
      ]
    },
    {
      "cell_type": "code",
      "metadata": {
        "id": "ufHJ1qP8CtP1",
        "colab": {
          "base_uri": "https://localhost:8080/",
          "height": 296
        },
        "outputId": "6d919cbe-e63f-4dcb-d4a0-e3a1025c3d0b"
      },
      "source": [
        "import pandas as pd\n",
        "import numpy as np\n",
        "\n",
        "random_state = 0\n",
        "df = pd.read_csv(\"data.csv\",index_col=\"Unnamed: 0\")\n",
        "df.describe()"
      ],
      "execution_count": 108,
      "outputs": [
        {
          "output_type": "execute_result",
          "data": {
            "text/html": [
              "<div>\n",
              "<style scoped>\n",
              "    .dataframe tbody tr th:only-of-type {\n",
              "        vertical-align: middle;\n",
              "    }\n",
              "\n",
              "    .dataframe tbody tr th {\n",
              "        vertical-align: top;\n",
              "    }\n",
              "\n",
              "    .dataframe thead th {\n",
              "        text-align: right;\n",
              "    }\n",
              "</style>\n",
              "<table border=\"1\" class=\"dataframe\">\n",
              "  <thead>\n",
              "    <tr style=\"text-align: right;\">\n",
              "      <th></th>\n",
              "      <th>label</th>\n",
              "    </tr>\n",
              "  </thead>\n",
              "  <tbody>\n",
              "    <tr>\n",
              "      <th>count</th>\n",
              "      <td>2225.000000</td>\n",
              "    </tr>\n",
              "    <tr>\n",
              "      <th>mean</th>\n",
              "      <td>1.958202</td>\n",
              "    </tr>\n",
              "    <tr>\n",
              "      <th>std</th>\n",
              "      <td>1.428310</td>\n",
              "    </tr>\n",
              "    <tr>\n",
              "      <th>min</th>\n",
              "      <td>0.000000</td>\n",
              "    </tr>\n",
              "    <tr>\n",
              "      <th>25%</th>\n",
              "      <td>1.000000</td>\n",
              "    </tr>\n",
              "    <tr>\n",
              "      <th>50%</th>\n",
              "      <td>2.000000</td>\n",
              "    </tr>\n",
              "    <tr>\n",
              "      <th>75%</th>\n",
              "      <td>3.000000</td>\n",
              "    </tr>\n",
              "    <tr>\n",
              "      <th>max</th>\n",
              "      <td>4.000000</td>\n",
              "    </tr>\n",
              "  </tbody>\n",
              "</table>\n",
              "</div>"
            ],
            "text/plain": [
              "             label\n",
              "count  2225.000000\n",
              "mean      1.958202\n",
              "std       1.428310\n",
              "min       0.000000\n",
              "25%       1.000000\n",
              "50%       2.000000\n",
              "75%       3.000000\n",
              "max       4.000000"
            ]
          },
          "metadata": {
            "tags": []
          },
          "execution_count": 108
        }
      ]
    },
    {
      "cell_type": "code",
      "metadata": {
        "id": "3YniAR--CvfW",
        "colab": {
          "base_uri": "https://localhost:8080/",
          "height": 204
        },
        "outputId": "b015833c-6265-4647-f863-91ddcb5075e0"
      },
      "source": [
        "df.head()"
      ],
      "execution_count": 109,
      "outputs": [
        {
          "output_type": "execute_result",
          "data": {
            "text/html": [
              "<div>\n",
              "<style scoped>\n",
              "    .dataframe tbody tr th:only-of-type {\n",
              "        vertical-align: middle;\n",
              "    }\n",
              "\n",
              "    .dataframe tbody tr th {\n",
              "        vertical-align: top;\n",
              "    }\n",
              "\n",
              "    .dataframe thead th {\n",
              "        text-align: right;\n",
              "    }\n",
              "</style>\n",
              "<table border=\"1\" class=\"dataframe\">\n",
              "  <thead>\n",
              "    <tr style=\"text-align: right;\">\n",
              "      <th></th>\n",
              "      <th>text</th>\n",
              "      <th>label</th>\n",
              "    </tr>\n",
              "  </thead>\n",
              "  <tbody>\n",
              "    <tr>\n",
              "      <th>0</th>\n",
              "      <td>Tate &amp; Lyle boss bags top award\\n\\nTate &amp; Lyle...</td>\n",
              "      <td>0</td>\n",
              "    </tr>\n",
              "    <tr>\n",
              "      <th>1</th>\n",
              "      <td>Halo 2 sells five million copies\\n\\nMicrosoft ...</td>\n",
              "      <td>4</td>\n",
              "    </tr>\n",
              "    <tr>\n",
              "      <th>2</th>\n",
              "      <td>MSPs hear renewed climate warning\\n\\nClimate c...</td>\n",
              "      <td>2</td>\n",
              "    </tr>\n",
              "    <tr>\n",
              "      <th>3</th>\n",
              "      <td>Pavey focuses on indoor success\\n\\nJo Pavey wi...</td>\n",
              "      <td>3</td>\n",
              "    </tr>\n",
              "    <tr>\n",
              "      <th>4</th>\n",
              "      <td>Tories reject rethink on axed MP\\n\\nSacked MP ...</td>\n",
              "      <td>2</td>\n",
              "    </tr>\n",
              "  </tbody>\n",
              "</table>\n",
              "</div>"
            ],
            "text/plain": [
              "                                                text  label\n",
              "0  Tate & Lyle boss bags top award\\n\\nTate & Lyle...      0\n",
              "1  Halo 2 sells five million copies\\n\\nMicrosoft ...      4\n",
              "2  MSPs hear renewed climate warning\\n\\nClimate c...      2\n",
              "3  Pavey focuses on indoor success\\n\\nJo Pavey wi...      3\n",
              "4  Tories reject rethink on axed MP\\n\\nSacked MP ...      2"
            ]
          },
          "metadata": {
            "tags": []
          },
          "execution_count": 109
        }
      ]
    },
    {
      "cell_type": "code",
      "metadata": {
        "id": "45PVMrO-KzvS",
        "colab": {
          "base_uri": "https://localhost:8080/",
          "height": 335
        },
        "outputId": "47dba41a-cf87-4bb3-a799-d9076551b3ab"
      },
      "source": [
        "import matplotlib.pyplot as plt\n",
        "import seaborn as sns \n",
        "\n",
        "def plotBar(df):\n",
        "  topic = df['label'].value_counts()\n",
        "  plt.figure(figsize=(12,4))\n",
        "  sns.barplot(topic.index, topic.values, alpha=0.8)\n",
        "  plt.ylabel('Number of Occurrences', fontsize=12)\n",
        "  plt.xlabel('Topic', fontsize=12)\n",
        "  plt.xticks(rotation=90)\n",
        "  plt.show();\n",
        "plotBar(df)"
      ],
      "execution_count": 110,
      "outputs": [
        {
          "output_type": "stream",
          "text": [
            "/usr/local/lib/python3.7/dist-packages/seaborn/_decorators.py:43: FutureWarning: Pass the following variables as keyword args: x, y. From version 0.12, the only valid positional argument will be `data`, and passing other arguments without an explicit keyword will result in an error or misinterpretation.\n",
            "  FutureWarning\n"
          ],
          "name": "stderr"
        },
        {
          "output_type": "display_data",
          "data": {
            "image/png": "[encoded data removed]",
            "text/plain": [
              "<Figure size 864x288 with 1 Axes>"
            ]
          },
          "metadata": {
            "tags": [],
            "needs_background": "light"
          }
        }
      ]
    },
    {
      "cell_type": "code",
      "metadata": {
        "colab": {
          "base_uri": "https://localhost:8080/"
        },
        "id": "L8PLz1wsHJyg",
        "outputId": "72efd52e-c563-416f-82b0-805bb48023aa"
      },
      "source": [
        "subsets = []\n",
        "\n",
        "for i in range(0,1800,300):\n",
        "  subsets.append(df[i:i+300].reset_index(drop=True))\n",
        "subsets.append(df[1800:].reset_index(drop=True))\n",
        "len(subsets)"
      ],
      "execution_count": 111,
      "outputs": [
        {
          "output_type": "execute_result",
          "data": {
            "text/plain": [
              "7"
            ]
          },
          "metadata": {
            "tags": []
          },
          "execution_count": 111
        }
      ]
    },
    {
      "cell_type": "code",
      "metadata": {
        "colab": {
          "base_uri": "https://localhost:8080/",
          "height": 942
        },
        "id": "wm29Y9WZJQTE",
        "outputId": "12c5eecf-e470-4810-cd93-68eb9e7086c7"
      },
      "source": [
        "fig, ax =plt.subplots(2,4)\n",
        "fig.set_figheight(12)\n",
        "fig.set_figwidth(24)\n",
        "sns.countplot(subsets[0].label, ax=ax[0][0]).set_title('Subset 1')\n",
        "sns.countplot(subsets[1].label, ax=ax[0][1]).set_title('Subset 2')\n",
        "sns.countplot(subsets[2].label, ax=ax[0][2]).set_title('Subset 3')\n",
        "sns.countplot(subsets[3].label, ax=ax[0][3]).set_title('Subset 4')\n",
        "sns.countplot(subsets[4].label, ax=ax[1][0]).set_title('Subset 5')\n",
        "sns.countplot(subsets[5].label, ax=ax[1][1]).set_title('Subset 6')\n",
        "sns.countplot(subsets[6].label, ax=ax[1][2]).set_title('Subset 7')\n",
        "fig.show()"
      ],
      "execution_count": 112,
      "outputs": [
        {
          "output_type": "stream",
          "text": [
            "/usr/local/lib/python3.7/dist-packages/seaborn/_decorators.py:43: FutureWarning: Pass the following variable as a keyword arg: x. From version 0.12, the only valid positional argument will be `data`, and passing other arguments without an explicit keyword will result in an error or misinterpretation.\n",
            "  FutureWarning\n",
            "/usr/local/lib/python3.7/dist-packages/seaborn/_decorators.py:43: FutureWarning: Pass the following variable as a keyword arg: x. From version 0.12, the only valid positional argument will be `data`, and passing other arguments without an explicit keyword will result in an error or misinterpretation.\n",
            "  FutureWarning\n",
            "/usr/local/lib/python3.7/dist-packages/seaborn/_decorators.py:43: FutureWarning: Pass the following variable as a keyword arg: x. From version 0.12, the only valid positional argument will be `data`, and passing other arguments without an explicit keyword will result in an error or misinterpretation.\n",
            "  FutureWarning\n",
            "/usr/local/lib/python3.7/dist-packages/seaborn/_decorators.py:43: FutureWarning: Pass the following variable as a keyword arg: x. From version 0.12, the only valid positional argument will be `data`, and passing other arguments without an explicit keyword will result in an error or misinterpretation.\n",
            "  FutureWarning\n",
            "/usr/local/lib/python3.7/dist-packages/seaborn/_decorators.py:43: FutureWarning: Pass the following variable as a keyword arg: x. From version 0.12, the only valid positional argument will be `data`, and passing other arguments without an explicit keyword will result in an error or misinterpretation.\n",
            "  FutureWarning\n",
            "/usr/local/lib/python3.7/dist-packages/seaborn/_decorators.py:43: FutureWarning: Pass the following variable as a keyword arg: x. From version 0.12, the only valid positional argument will be `data`, and passing other arguments without an explicit keyword will result in an error or misinterpretation.\n",
            "  FutureWarning\n",
            "/usr/local/lib/python3.7/dist-packages/seaborn/_decorators.py:43: FutureWarning: Pass the following variable as a keyword arg: x. From version 0.12, the only valid positional argument will be `data`, and passing other arguments without an explicit keyword will result in an error or misinterpretation.\n",
            "  FutureWarning\n"
          ],
          "name": "stderr"
        },
        {
          "output_type": "display_data",
          "data": {
            "image/png": "[encoded data removed]",
            "text/plain": [
              "<Figure size 1728x864 with 8 Axes>"
            ]
          },
          "metadata": {
            "tags": [],
            "needs_background": "light"
          }
        }
      ]
    },
    {
      "cell_type": "markdown",
      "metadata": {
        "id": "M3EvjdnwFMbT"
      },
      "source": [
        "# Data Cleaning"
      ]
    },
    {
      "cell_type": "code",
      "metadata": {
        "id": "1oN9P1yeEzZr"
      },
      "source": [
        "import string\n",
        "def remove_punctuation(text):\n",
        "    punct_list = list(string.punctuation)\n",
        "    for punc in punct_list:\n",
        "        if punc in text:\n",
        "            text = text.replace(punc, ' ')\n",
        "    return text.strip()"
      ],
      "execution_count": 113,
      "outputs": []
    },
    {
      "cell_type": "code",
      "metadata": {
        "id": "Epa0o5-kGYZS",
        "colab": {
          "base_uri": "https://localhost:8080/"
        },
        "outputId": "2beaec66-3397-4846-a87c-c2c888ce8409"
      },
      "source": [
        "from nltk.stem import PorterStemmer\n",
        "from nltk.tokenize import word_tokenize\n",
        "import nltk\n",
        "nltk.download('punkt')\n",
        "\n",
        "def stemming_and_lowercase(text):\n",
        "  stemmer= PorterStemmer()\n",
        "  tokenized_text = word_tokenize(text)\n",
        "  stemmed_text = \"\"\n",
        "  for word in tokenized_text:\n",
        "      stemmed_text += \" \" + stemmer.stem(word.lower())\n",
        "  return stemmed_text"
      ],
      "execution_count": 114,
      "outputs": [
        {
          "output_type": "stream",
          "text": [
            "[nltk_data] Downloading package punkt to /root/nltk_data...\n",
            "[nltk_data]   Package punkt is already up-to-date!\n"
          ],
          "name": "stdout"
        }
      ]
    },
    {
      "cell_type": "code",
      "metadata": {
        "id": "2eiaZAJOeIUt"
      },
      "source": [
        "def lowercase(text):\n",
        "  tokenized_text = word_tokenize(text)\n",
        "  l_text = \"\"\n",
        "  for word in tokenized_text:\n",
        "      l_text += \" \" + word.lower()\n",
        "  return l_text"
      ],
      "execution_count": 115,
      "outputs": []
    },
    {
      "cell_type": "code",
      "metadata": {
        "id": "xkMcHr0vFCFw"
      },
      "source": [
        "def clean_data(df):\n",
        "  for row in range(len(df)):\n",
        "    tmp = df['text'][row].replace('\\n',' ')   #remove new lines\n",
        "    tmp = remove_punctuation(tmp)             #remove punctuation\n",
        "    #tmp = stemming_and_lowercase(tmp)         #stemming and all letters to lowercase\n",
        "    tmp = lowercase(tmp)\n",
        "    df['text'][row] = tmp\n",
        "  \n",
        "  return df\n"
      ],
      "execution_count": 116,
      "outputs": []
    },
    {
      "cell_type": "code",
      "metadata": {
        "id": "N4Ma5TFoOakV",
        "colab": {
          "base_uri": "https://localhost:8080/"
        },
        "outputId": "91d7f070-8974-48cf-c121-bb6ad6566f5f"
      },
      "source": [
        "df_cleaned = []\n",
        "for subset in subsets:\n",
        "  df_cleaned.append(clean_data(subset))"
      ],
      "execution_count": 117,
      "outputs": [
        {
          "output_type": "stream",
          "text": [
            "/usr/local/lib/python3.7/dist-packages/ipykernel_launcher.py:7: SettingWithCopyWarning: \n",
            "A value is trying to be set on a copy of a slice from a DataFrame\n",
            "\n",
            "See the caveats in the documentation: https://pandas.pydata.org/pandas-docs/stable/user_guide/indexing.html#returning-a-view-versus-a-copy\n",
            "  import sys\n"
          ],
          "name": "stderr"
        }
      ]
    },
    {
      "cell_type": "code",
      "metadata": {
        "id": "862O6iTDI9vb",
        "colab": {
          "base_uri": "https://localhost:8080/",
          "height": 204
        },
        "outputId": "45407d36-39ac-4f24-e00c-0aba32e52276"
      },
      "source": [
        "df_cleaned[0].head()"
      ],
      "execution_count": 118,
      "outputs": [
        {
          "output_type": "execute_result",
          "data": {
            "text/html": [
              "<div>\n",
              "<style scoped>\n",
              "    .dataframe tbody tr th:only-of-type {\n",
              "        vertical-align: middle;\n",
              "    }\n",
              "\n",
              "    .dataframe tbody tr th {\n",
              "        vertical-align: top;\n",
              "    }\n",
              "\n",
              "    .dataframe thead th {\n",
              "        text-align: right;\n",
              "    }\n",
              "</style>\n",
              "<table border=\"1\" class=\"dataframe\">\n",
              "  <thead>\n",
              "    <tr style=\"text-align: right;\">\n",
              "      <th></th>\n",
              "      <th>text</th>\n",
              "      <th>label</th>\n",
              "    </tr>\n",
              "  </thead>\n",
              "  <tbody>\n",
              "    <tr>\n",
              "      <th>0</th>\n",
              "      <td>tate lyle boss bags top award tate lyle s chi...</td>\n",
              "      <td>0</td>\n",
              "    </tr>\n",
              "    <tr>\n",
              "      <th>1</th>\n",
              "      <td>halo 2 sells five million copies microsoft is...</td>\n",
              "      <td>4</td>\n",
              "    </tr>\n",
              "    <tr>\n",
              "      <th>2</th>\n",
              "      <td>msps hear renewed climate warning climate cha...</td>\n",
              "      <td>2</td>\n",
              "    </tr>\n",
              "    <tr>\n",
              "      <th>3</th>\n",
              "      <td>pavey focuses on indoor success jo pavey will...</td>\n",
              "      <td>3</td>\n",
              "    </tr>\n",
              "    <tr>\n",
              "      <th>4</th>\n",
              "      <td>tories reject rethink on axed mp sacked mp ho...</td>\n",
              "      <td>2</td>\n",
              "    </tr>\n",
              "  </tbody>\n",
              "</table>\n",
              "</div>"
            ],
            "text/plain": [
              "                                                text  label\n",
              "0   tate lyle boss bags top award tate lyle s chi...      0\n",
              "1   halo 2 sells five million copies microsoft is...      4\n",
              "2   msps hear renewed climate warning climate cha...      2\n",
              "3   pavey focuses on indoor success jo pavey will...      3\n",
              "4   tories reject rethink on axed mp sacked mp ho...      2"
            ]
          },
          "metadata": {
            "tags": []
          },
          "execution_count": 118
        }
      ]
    },
    {
      "cell_type": "markdown",
      "metadata": {
        "id": "vUS8CwugJQfS"
      },
      "source": [
        "# Vectorization"
      ]
    },
    {
      "cell_type": "markdown",
      "metadata": {
        "id": "MEmpTc4yKRq3"
      },
      "source": [
        "### TF-IDF "
      ]
    },
    {
      "cell_type": "code",
      "metadata": {
        "id": "LbezZgigJVVY"
      },
      "source": [
        "from sklearn.feature_extraction.text import TfidfVectorizer\n",
        "features = []\n",
        "for df_subset in df_cleaned:\n",
        "  vec = TfidfVectorizer(stop_words=\"english\")\n",
        "  vec.fit(df_subset.text.values)\n",
        "  features.append(vec.transform(df_subset.text.values))"
      ],
      "execution_count": 119,
      "outputs": []
    },
    {
      "cell_type": "code",
      "metadata": {
        "id": "jzOXATJ2JhjR",
        "colab": {
          "base_uri": "https://localhost:8080/"
        },
        "outputId": "7b6a0e13-2ef6-4a6b-fea2-b7e7b9e4e23f"
      },
      "source": [
        "#dimensions feature vectors\n",
        "for i in range(7):\n",
        "  print(\"subset {}: dimension \".format(i) + str(features[i].toarray().shape))"
      ],
      "execution_count": 120,
      "outputs": [
        {
          "output_type": "stream",
          "text": [
            "subset 0: dimension (300, 11719)\n",
            "subset 1: dimension (300, 11533)\n",
            "subset 2: dimension (300, 11213)\n",
            "subset 3: dimension (300, 12085)\n",
            "subset 4: dimension (300, 11304)\n",
            "subset 5: dimension (300, 11539)\n",
            "subset 6: dimension (425, 13392)\n"
          ],
          "name": "stdout"
        }
      ]
    },
    {
      "cell_type": "markdown",
      "metadata": {
        "id": "Z3NFo4fkKZyN"
      },
      "source": [
        "### Glove Embedding"
      ]
    },
    {
      "cell_type": "code",
      "metadata": {
        "id": "rSBAxdEZNsWh"
      },
      "source": [
        "GLOVE_EMBEDDING = False"
      ],
      "execution_count": 121,
      "outputs": []
    },
    {
      "cell_type": "code",
      "metadata": {
        "id": "v6VOfDz5MZBc"
      },
      "source": [
        "from tensorflow.keras.preprocessing.text import Tokenizer\n",
        "from tensorflow.keras.preprocessing.sequence import pad_sequences\n",
        "from tensorflow.keras.utils import to_categorical"
      ],
      "execution_count": 122,
      "outputs": []
    },
    {
      "cell_type": "code",
      "metadata": {
        "id": "8Cdsa--9MZVA"
      },
      "source": [
        "glove_embeddings = np.load('glove.840B.300d.pkl', allow_pickle=True)"
      ],
      "execution_count": 123,
      "outputs": []
    },
    {
      "cell_type": "code",
      "metadata": {
        "id": "mMZSSJ5VMnPn",
        "colab": {
          "base_uri": "https://localhost:8080/"
        },
        "outputId": "b6d543ee-15e1-4c22-e740-7b4e0539dc61"
      },
      "source": [
        "print(\"Number of words: \" + str(len(glove_embeddings.keys())))\n",
        "print(\"Dimension of the word vectors: \" + str(len(glove_embeddings['example'])))"
      ],
      "execution_count": 124,
      "outputs": [
        {
          "output_type": "stream",
          "text": [
            "Number of words: 2196008\n",
            "Dimension of the word vectors: 300\n"
          ],
          "name": "stdout"
        }
      ]
    },
    {
      "cell_type": "code",
      "metadata": {
        "id": "HDBOwJ3xPkob"
      },
      "source": [
        "if GLOVE_EMBEDDING:\n",
        "  count = 0\n",
        "  uncovered_words = {}\n",
        "  covered_words = {}\n",
        "  for text in df_cleaned.text:\n",
        "      for word in text.split():   \n",
        "          if word not in glove_embeddings.keys():\n",
        "              count += 1\n",
        "              if word not in uncovered_words:\n",
        "                  uncovered_words[word] = 1\n",
        "              else:\n",
        "                  uncovered_words[word] += 1   \n",
        "          else:\n",
        "              if word not in covered_words:\n",
        "                  covered_words[word] = 1\n",
        "              else:\n",
        "                  covered_words[word] += 1\n",
        "  print(\"Number of unique words in dataset: \" + str(len(covered_words) + len(uncovered_words) ))\n",
        "  print(\" Number of covered words: \" + str(len(covered_words)))\n",
        "  print(\" Number of uncovered words: \" + str(len(uncovered_words)))\n",
        "  print(\"Top 25 words uncovered by glove\")\n",
        "  pd.DataFrame([uncovered_words]).T.reset_index().sort_values(by = 0, ascending = False)[:25]\n",
        "\n",
        "\n",
        "  #word tokenize\n",
        "\n",
        "  tokenizer_keras = Tokenizer( oov_token = \"<UNK>\")\n",
        "  tokenizer_keras.fit_on_texts(df_cleaned['text'])\n",
        "  word_index = tokenizer_keras.word_index  \n",
        "  vocab_size_keras = len(word_index)\n",
        "  embedding_dim = len(glove_embeddings['example'] )    \n",
        "  list(word_index.items())[0:5]\n",
        "\n",
        "  #embedding matrix\n",
        "\n",
        "  embedding_matrix = np.zeros((vocab_size_keras+1,embedding_dim))\n",
        "  for word, i in word_index.items():\n",
        "      if word in glove_embeddings.keys():\n",
        "          embedding_vector = glove_embeddings[word]\n",
        "          embedding_matrix[i] = embedding_vector\n",
        "  print(embedding_matrix)\n",
        "\n",
        "  # GLOVE VECTOR FOR TRAINING\n",
        "\n",
        "  X = embedding_matrix\n",
        "  X.shape\n",
        "\n"
      ],
      "execution_count": 125,
      "outputs": []
    },
    {
      "cell_type": "code",
      "metadata": {
        "id": "4Z4fPib0w--B",
        "colab": {
          "base_uri": "https://localhost:8080/"
        },
        "outputId": "3ad859ec-6744-4ff8-8798-89df4bb2b239"
      },
      "source": [
        "# TEST DATA\n",
        "\n",
        "from sklearn.preprocessing import StandardScaler\n",
        "df_test = pd.read_csv(\"testdata.txt\") # Reading from the data file\n",
        "\n",
        "dataset = df_test.astype(float).values.tolist()\n",
        "# normalize dataset\n",
        "X = StandardScaler().fit_transform(dataset)\n",
        "X[:10]"
      ],
      "execution_count": 126,
      "outputs": [
        {
          "output_type": "execute_result",
          "data": {
            "text/plain": [
              "array([[-0.15082018, -0.75332837],\n",
              "       [-1.7609798 , -0.59668755],\n",
              "       [-1.67796895,  0.4316142 ],\n",
              "       [-0.5132503 , -0.20210474],\n",
              "       [ 1.79095699,  0.73858024],\n",
              "       [ 0.87617868,  0.53494714],\n",
              "       [ 2.00530733,  0.43140997],\n",
              "       [-0.22911293, -0.62027751],\n",
              "       [-0.14212963, -1.81366516],\n",
              "       [ 0.56623597,  0.30664191]])"
            ]
          },
          "metadata": {
            "tags": []
          },
          "execution_count": 126
        }
      ]
    },
    {
      "cell_type": "markdown",
      "metadata": {
        "id": "P04KbD86x5_0"
      },
      "source": [
        "# Visualization"
      ]
    },
    {
      "cell_type": "code",
      "metadata": {
        "id": "1QodWS5HoPUx"
      },
      "source": [
        "from sklearn.decomposition import PCA\n",
        "def reduce_2d_and_visualize(X,Y,show_grid=True,title='title'):\n",
        "\n",
        "  pca = PCA(n_components=2, random_state=random_state)\n",
        "  reduced_features = pca.fit_transform(X)\n",
        "  f = plt.figure()\n",
        "  plt.scatter(reduced_features[:,0], reduced_features[:,1], c=Y)\n",
        "  plt.grid(show_grid)\n",
        "  plt.title(title, size=16)\n"
      ],
      "execution_count": 127,
      "outputs": []
    },
    {
      "cell_type": "markdown",
      "metadata": {
        "id": "Haxpw6H6iqFA"
      },
      "source": [
        "# K-nearest neighbor distance "
      ]
    },
    {
      "cell_type": "code",
      "metadata": {
        "id": "PluKWAjoWgVn"
      },
      "source": [
        "def k_distances2(x, k):\n",
        "    dim0 = x.shape[0]\n",
        "    dim1 = x.shape[1]\n",
        "    p=-2*x.dot(x.T)+np.sum(x**2, axis=1).T+ np.repeat(np.sum(x**2, axis=1),dim0,axis=0).reshape(dim0,dim0)\n",
        "    p = np.sqrt(p)\n",
        "    p.sort(axis=1)\n",
        "    p=p[:,:k]\n",
        "    pm= p.flatten()\n",
        "    pm= np.sort(pm)\n",
        "    return p, pm\n"
      ],
      "execution_count": 128,
      "outputs": []
    },
    {
      "cell_type": "code",
      "metadata": {
        "colab": {
          "base_uri": "https://localhost:8080/"
        },
        "id": "9wqagMsvhNFJ",
        "outputId": "5b084309-159e-4948-cdad-6c7ecc3ebfd2"
      },
      "source": [
        "features[0]"
      ],
      "execution_count": 129,
      "outputs": [
        {
          "output_type": "execute_result",
          "data": {
            "text/plain": [
              "<300x11719 sparse matrix of type '<class 'numpy.float64'>'\n",
              "\twith 44471 stored elements in Compressed Sparse Row format>"
            ]
          },
          "metadata": {
            "tags": []
          },
          "execution_count": 129
        }
      ]
    },
    {
      "cell_type": "code",
      "metadata": {
        "colab": {
          "base_uri": "https://localhost:8080/",
          "height": 300
        },
        "id": "3YZhz73TWpLd",
        "outputId": "4733d073-57b7-46ed-d8a6-3fed76a218eb"
      },
      "source": [
        "m, m2= k_distances2(features[0].toarray(), 5)\n",
        "plt.plot(m2)\n",
        "plt.ylabel(\"k-distances\")\n",
        "plt.grid(True)\n",
        "plt.show()"
      ],
      "execution_count": 130,
      "outputs": [
        {
          "output_type": "stream",
          "text": [
            "/usr/local/lib/python3.7/dist-packages/ipykernel_launcher.py:5: RuntimeWarning: invalid value encountered in sqrt\n",
            "  \"\"\"\n"
          ],
          "name": "stderr"
        },
        {
          "output_type": "display_data",
          "data": {
            "image/png": "[encoded data removed]",
            "text/plain": [
              "<Figure size 432x288 with 1 Axes>"
            ]
          },
          "metadata": {
            "tags": [],
            "needs_background": "light"
          }
        }
      ]
    },
    {
      "cell_type": "markdown",
      "metadata": {
        "id": "d3yDbvQ6VOWD"
      },
      "source": [
        "# DBSCAN Training"
      ]
    },
    {
      "cell_type": "code",
      "metadata": {
        "id": "J8-85_tCi9bT"
      },
      "source": [
        "model = \"DBSCAN\"\n",
        "#model = \"HDBSCAN\""
      ],
      "execution_count": 252,
      "outputs": []
    },
    {
      "cell_type": "code",
      "metadata": {
        "id": "AMrfd4xdmYOm"
      },
      "source": [
        "i = 6#subset number"
      ],
      "execution_count": 342,
      "outputs": []
    },
    {
      "cell_type": "code",
      "metadata": {
        "id": "EwF7ExzhkPU8"
      },
      "source": [
        "if model == \"DBSCAN\":\n",
        "  clustering = DBSCAN(eps=1.31, min_samples=5).fit(features[i])\n",
        "  clustering.labels_[:100]"
      ],
      "execution_count": 343,
      "outputs": []
    },
    {
      "cell_type": "code",
      "metadata": {
        "id": "DlnbZcT-i6uf"
      },
      "source": [
        "if model == \"HDBSCAN\":\n",
        "  import hdbscan\n",
        "\n",
        "  clustering = hdbscan.HDBSCAN()\n",
        "  clustering.labels_ = clusterer.fit_predict(features[i])"
      ],
      "execution_count": 344,
      "outputs": []
    },
    {
      "cell_type": "code",
      "metadata": {
        "id": "_wma-oZ6mgip",
        "colab": {
          "base_uri": "https://localhost:8080/",
          "height": 283
        },
        "outputId": "7ec20572-c06c-481e-da6e-3f53e3ddb672"
      },
      "source": [
        "reduce_2d_and_visualize(features[i].toarray(),clustering.labels_,title=\"subset {}\".format(i+1))"
      ],
      "execution_count": 345,
      "outputs": [
        {
          "output_type": "display_data",
          "data": {
            "image/png": "[encoded data removed]",
            "text/plain": [
              "<Figure size 432x288 with 1 Axes>"
            ]
          },
          "metadata": {
            "tags": [],
            "needs_background": "light"
          }
        }
      ]
    },
    {
      "cell_type": "code",
      "metadata": {
        "colab": {
          "base_uri": "https://localhost:8080/"
        },
        "id": "nGGGiFhat0kQ",
        "outputId": "027c17d1-9a23-4cd2-e30d-34415da63bf5"
      },
      "source": [
        "cluster_num = pd.Series(clustering.labels_).describe()['max'] + 2 \n",
        "cluster_num"
      ],
      "execution_count": 346,
      "outputs": [
        {
          "output_type": "execute_result",
          "data": {
            "text/plain": [
              "7.0"
            ]
          },
          "metadata": {
            "tags": []
          },
          "execution_count": 346
        }
      ]
    },
    {
      "cell_type": "code",
      "metadata": {
        "id": "ffFNUtMrqUeH"
      },
      "source": [
        "#subset 1 eps=1.33, min_samples=10\n",
        "#2 eps=1.33, min_samples=9\n",
        "#3 eps=1.33, min_samples=7\n",
        "#4 eps=1.31, min_samples=5\n",
        "#5 eps=1.31, min_samples=5\n",
        "#6eps=1.31, min_samples=6\n",
        "#7eps=1.31, min_samples=6"
      ],
      "execution_count": 347,
      "outputs": []
    },
    {
      "cell_type": "markdown",
      "metadata": {
        "id": "v3IckSLk6Cpc"
      },
      "source": [
        "# Evaluation"
      ]
    },
    {
      "cell_type": "markdown",
      "metadata": {
        "id": "nQ5iognQ6dfa"
      },
      "source": [
        "## For labelled dataset"
      ]
    },
    {
      "cell_type": "code",
      "metadata": {
        "id": "pCbFC6uIktN5"
      },
      "source": [
        "actual_labels = df_cleaned[i]['label']"
      ],
      "execution_count": 348,
      "outputs": []
    },
    {
      "cell_type": "markdown",
      "metadata": {
        "id": "odfXt_HcpCLw"
      },
      "source": [
        "### Random index"
      ]
    },
    {
      "cell_type": "code",
      "metadata": {
        "colab": {
          "base_uri": "https://localhost:8080/"
        },
        "id": "1eCQdMwHroYA",
        "outputId": "bbcb7eec-7dfa-4115-aed7-1b18b638d738"
      },
      "source": [
        "from sklearn.metrics.cluster import adjusted_rand_score\n",
        "round(adjusted_rand_score(actual_labels,clustering.labels_) , 4)"
      ],
      "execution_count": 349,
      "outputs": [
        {
          "output_type": "execute_result",
          "data": {
            "text/plain": [
              "0.1665"
            ]
          },
          "metadata": {
            "tags": []
          },
          "execution_count": 349
        }
      ]
    },
    {
      "cell_type": "markdown",
      "metadata": {
        "id": "G4S3UOErsDGy"
      },
      "source": [
        "### Mutual_info_score "
      ]
    },
    {
      "cell_type": "code",
      "metadata": {
        "colab": {
          "base_uri": "https://localhost:8080/"
        },
        "id": "uLbRG3vlrzpC",
        "outputId": "10dbd39a-8c5b-4dbc-8634-5dae6c7497b6"
      },
      "source": [
        "from sklearn.metrics import adjusted_mutual_info_score \n",
        "adjusted_mutual_info_score(actual_labels,clustering.labels_).round(4)"
      ],
      "execution_count": 350,
      "outputs": [
        {
          "output_type": "execute_result",
          "data": {
            "text/plain": [
              "0.301"
            ]
          },
          "metadata": {
            "tags": []
          },
          "execution_count": 350
        }
      ]
    },
    {
      "cell_type": "markdown",
      "metadata": {
        "id": "as5miNuQpE45"
      },
      "source": [
        "### Homogenity Score"
      ]
    },
    {
      "cell_type": "code",
      "metadata": {
        "id": "QZdUczmQ6EsQ",
        "colab": {
          "base_uri": "https://localhost:8080/"
        },
        "outputId": "7c1d359b-fdfc-4867-91d2-2df9ccf23a6d"
      },
      "source": [
        "from sklearn.metrics import homogeneity_score\n",
        "homogeneity_score(actual_labels,clustering.labels_).round(4)"
      ],
      "execution_count": 351,
      "outputs": [
        {
          "output_type": "execute_result",
          "data": {
            "text/plain": [
              "0.2979"
            ]
          },
          "metadata": {
            "tags": []
          },
          "execution_count": 351
        }
      ]
    },
    {
      "cell_type": "markdown",
      "metadata": {
        "id": "uF1DDNoM6fwk"
      },
      "source": [
        "## For unlabelled dataset"
      ]
    },
    {
      "cell_type": "markdown",
      "metadata": {
        "id": "n6qO_-22tXJL"
      },
      "source": [
        "### Silhoutette Coefficent"
      ]
    },
    {
      "cell_type": "code",
      "metadata": {
        "id": "YruGDITE6FzA",
        "colab": {
          "base_uri": "https://localhost:8080/"
        },
        "outputId": "bc3108d1-14b3-4686-8e69-3bbe3b9d5bad"
      },
      "source": [
        "from sklearn.metrics import silhouette_score\n",
        "silhouette_score(features[i], labels=clustering.labels_).round(4)"
      ],
      "execution_count": 352,
      "outputs": [
        {
          "output_type": "execute_result",
          "data": {
            "text/plain": [
              "0.0069"
            ]
          },
          "metadata": {
            "tags": []
          },
          "execution_count": 352
        }
      ]
    },
    {
      "cell_type": "markdown",
      "metadata": {
        "id": "b-Fu_sDvta1L"
      },
      "source": [
        "### Calinski Harabasz score"
      ]
    },
    {
      "cell_type": "code",
      "metadata": {
        "id": "bIsy2tn16LPz",
        "colab": {
          "base_uri": "https://localhost:8080/"
        },
        "outputId": "f3c5c98e-0e99-4836-a46c-33e20ef3c296"
      },
      "source": [
        "from sklearn.metrics import calinski_harabasz_score\n",
        "calinski_harabasz_score(features[i].toarray(), labels=clustering.labels_).round(4)"
      ],
      "execution_count": 353,
      "outputs": [
        {
          "output_type": "execute_result",
          "data": {
            "text/plain": [
              "2.4924"
            ]
          },
          "metadata": {
            "tags": []
          },
          "execution_count": 353
        }
      ]
    },
    {
      "cell_type": "code",
      "metadata": {
        "id": "bcGdb6WVnyFT"
      },
      "source": [],
      "execution_count": 353,
      "outputs": []
    },
    {
      "cell_type": "code",
      "metadata": {
        "id": "5uaVqpJFnyVf"
      },
      "source": [],
      "execution_count": 353,
      "outputs": []
    }
  ]
}