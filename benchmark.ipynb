{
  "nbformat": 4,
  "nbformat_minor": 0,
  "metadata": {
    "colab": {
      "name": "benchmark.ipynb",
      "provenance": [],
      "collapsed_sections": []
    },
    "kernelspec": {
      "name": "python3",
      "display_name": "Python 3"
    },
    "language_info": {
      "name": "python"
    }
  },
  "cells": [
    {
      "cell_type": "code",
      "metadata": {
        "colab": {
          "base_uri": "https://localhost:8080/"
        },
        "id": "p6d_OkWwTs80",
        "outputId": "4fc94c77-ef02-459f-be67-ba03881ff5d1"
      },
      "source": [
        "import os\n",
        "from google.colab import drive\n",
        "# Authenticate for google drive integration\n",
        "drive.mount('/gdrive/',force_remount=True)"
      ],
      "execution_count": 8,
      "outputs": [
        {
          "output_type": "stream",
          "text": [
            "Mounted at /gdrive/\n"
          ],
          "name": "stdout"
        }
      ]
    },
    {
      "cell_type": "code",
      "metadata": {
        "id": "MX5cz__eTvps"
      },
      "source": [
        "import os\n",
        "os.chdir(\"/gdrive/My Drive/EDAMI_PROJECT_GR_7\")"
      ],
      "execution_count": 9,
      "outputs": []
    },
    {
      "cell_type": "code",
      "metadata": {
        "colab": {
          "base_uri": "https://localhost:8080/"
        },
        "id": "myVWpyurUaZy",
        "outputId": "43145dfb-3b85-4ebe-e9ef-0c635813e7a5"
      },
      "source": [
        "!pip install hdbscan"
      ],
      "execution_count": 3,
      "outputs": [
        {
          "output_type": "stream",
          "text": [
            "Collecting hdbscan\n",
            "\u001b[?25l  Downloading https://files.pythonhosted.org/packages/32/bb/59a75bc5ac66a9b4f9b8f979e4545af0e98bb1ca4e6ae96b3b956b554223/hdbscan-0.8.27.tar.gz (6.4MB)\n",
            "\u001b[K     |████████████████████████████████| 6.4MB 7.3MB/s \n",
            "\u001b[?25h  Installing build dependencies ... \u001b[?25l\u001b[?25hdone\n",
            "  Getting requirements to build wheel ... \u001b[?25l\u001b[?25hdone\n",
            "    Preparing wheel metadata ... \u001b[?25l\u001b[?25hdone\n",
            "Requirement already satisfied: joblib>=1.0 in /usr/local/lib/python3.7/dist-packages (from hdbscan) (1.0.1)\n",
            "Requirement already satisfied: numpy>=1.16 in /usr/local/lib/python3.7/dist-packages (from hdbscan) (1.19.5)\n",
            "Requirement already satisfied: scikit-learn>=0.20 in /usr/local/lib/python3.7/dist-packages (from hdbscan) (0.22.2.post1)\n",
            "Requirement already satisfied: six in /usr/local/lib/python3.7/dist-packages (from hdbscan) (1.15.0)\n",
            "Requirement already satisfied: scipy>=1.0 in /usr/local/lib/python3.7/dist-packages (from hdbscan) (1.4.1)\n",
            "Requirement already satisfied: cython>=0.27 in /usr/local/lib/python3.7/dist-packages (from hdbscan) (0.29.23)\n",
            "Building wheels for collected packages: hdbscan\n",
            "  Building wheel for hdbscan (PEP 517) ... \u001b[?25l\u001b[?25hdone\n",
            "  Created wheel for hdbscan: filename=hdbscan-0.8.27-cp37-cp37m-linux_x86_64.whl size=2311712 sha256=b17b3266e9cc8e60cd3b529bf87725abf1eecbe57f442ba31a7b7937a19c9b3a\n",
            "  Stored in directory: /root/.cache/pip/wheels/42/63/fb/314ad6c3b270887a3ecb588b8e5aac50b0fad38ff89bb6dff2\n",
            "Successfully built hdbscan\n",
            "Installing collected packages: hdbscan\n",
            "Successfully installed hdbscan-0.8.27\n"
          ],
          "name": "stdout"
        }
      ]
    },
    {
      "cell_type": "code",
      "metadata": {
        "id": "PFBWoIK9Twxt"
      },
      "source": [
        "from custom_dbscan import DBSCAN\n",
        "import hdbscan\n",
        "import sklearn.cluster \n",
        "import sklearn.datasets\n",
        "import numpy as np\n",
        "import pandas as pd\n",
        "import time\n",
        "import matplotlib.pyplot as plt\n",
        "import seaborn as sns\n"
      ],
      "execution_count": 10,
      "outputs": []
    },
    {
      "cell_type": "code",
      "metadata": {
        "id": "6NV1UuYbe4R4"
      },
      "source": [
        "def benchmark(dataset_sizes,dataset_dimension,cluster_function, kwargs ):\n",
        "\n",
        "  time_takens = []\n",
        "\n",
        "  for size in dataset_sizes:\n",
        "\n",
        "    data, _ = sklearn.datasets.make_blobs(n_samples=size, \n",
        "                                                        n_features=dataset_dimension, \n",
        "                                                        centers=5)\n",
        "    start_time = time.time()\n",
        "    cluster_function(data, **kwargs)\n",
        "    time_taken = time.time() - start_time\n",
        "    time_takens.append(round(time_taken,6))\n",
        "\n",
        "  return time_takens"
      ],
      "execution_count": 11,
      "outputs": []
    },
    {
      "cell_type": "code",
      "metadata": {
        "id": "Ukvf_j6vh2kW"
      },
      "source": [
        ""
      ],
      "execution_count": null,
      "outputs": []
    },
    {
      "cell_type": "code",
      "metadata": {
        "id": "58Z5ZbCJlU73"
      },
      "source": [
        "dataset_sizes = np.array([500,1000,5000,10000,50000,100000])"
      ],
      "execution_count": 19,
      "outputs": []
    },
    {
      "cell_type": "code",
      "metadata": {
        "id": "lK_xW3Qvq6ra"
      },
      "source": [
        "dataset_sizes = np.array([500,1000,5000,10000])"
      ],
      "execution_count": 6,
      "outputs": []
    },
    {
      "cell_type": "markdown",
      "metadata": {
        "id": "vbC4Cjtzm4h_"
      },
      "source": [
        "## DBSCAN custom\n"
      ]
    },
    {
      "cell_type": "code",
      "metadata": {
        "id": "SShwfhqKL6X5"
      },
      "source": [
        "#pre calculated results"
      ],
      "execution_count": null,
      "outputs": []
    },
    {
      "cell_type": "code",
      "metadata": {
        "id": "1Fem3DPk0tLN"
      },
      "source": [
        "times_db = np.array([3.44793, 13.022569, 334.861367, 1347.713979, 16322.0418,99999])  "
      ],
      "execution_count": 15,
      "outputs": []
    },
    {
      "cell_type": "code",
      "metadata": {
        "id": "7Z2rizHpMSCZ"
      },
      "source": [
        "times_db = np.array([2.935787, 11.481445, 283.286809, 1133.056385, 13796.2590, 99999]) #gpu"
      ],
      "execution_count": null,
      "outputs": []
    },
    {
      "cell_type": "code",
      "metadata": {
        "id": "ftuyXqOfm68M"
      },
      "source": [
        "kwargs ={\"Eps\":1.31, \"MinPt\":5}\n",
        "custom_dbscan = DBSCAN()\n",
        "times_db = benchmark(dataset_sizes,2,custom_dbscan.fit,kwargs)\n",
        "times_db"
      ],
      "execution_count": null,
      "outputs": []
    },
    {
      "cell_type": "markdown",
      "metadata": {
        "id": "0jH6fugqm3Gb"
      },
      "source": [
        "## DBSCAN sklearn"
      ]
    },
    {
      "cell_type": "code",
      "metadata": {
        "id": "M7yoGG4cMH7A"
      },
      "source": [
        "#pre calculated results"
      ],
      "execution_count": null,
      "outputs": []
    },
    {
      "cell_type": "code",
      "metadata": {
        "id": "KfoUDpM0nimC"
      },
      "source": [
        "times_db_sklearn =np.array([0.007735, 0.017118, 0.134665, 0.38697, 6.087746, 27.518308])\n"
      ],
      "execution_count": 16,
      "outputs": []
    },
    {
      "cell_type": "code",
      "metadata": {
        "id": "wiaFndU6MPH_"
      },
      "source": [
        "times_db_sklearn= np.array([0.008585, 0.00988, 0.113911, 0.370377, 5.411962, 19.402351] ) #gpu"
      ],
      "execution_count": null,
      "outputs": []
    },
    {
      "cell_type": "code",
      "metadata": {
        "colab": {
          "base_uri": "https://localhost:8080/"
        },
        "id": "Mn7VpBagmF3O",
        "outputId": "1e52391a-9cd9-43ce-e7b6-aca21ba17d63"
      },
      "source": [
        "dbscan_sk = sklearn.cluster.DBSCAN(eps=1.31, min_samples=5)\n",
        "times_db_sklearn = benchmark(dataset_sizes,2,dbscan_sk.fit,{})\n",
        "times_db_sklearn"
      ],
      "execution_count": 11,
      "outputs": [
        {
          "output_type": "execute_result",
          "data": {
            "text/plain": [
              "[0.008585, 0.00988, 0.113911, 0.370377, 5.411962, 19.402351]"
            ]
          },
          "metadata": {
            "tags": []
          },
          "execution_count": 11
        }
      ]
    },
    {
      "cell_type": "markdown",
      "metadata": {
        "id": "2nlvPFr9md26"
      },
      "source": [
        "## HDBSCAN"
      ]
    },
    {
      "cell_type": "code",
      "metadata": {
        "id": "9Yk0REkqMYQ_"
      },
      "source": [
        "#pre calculated results"
      ],
      "execution_count": null,
      "outputs": []
    },
    {
      "cell_type": "code",
      "metadata": {
        "id": "KWBOjkG0oG9n"
      },
      "source": [
        "times_hdb = np.array([0.036746, 0.021435, 0.12711, 0.258277, 4.943284, 4.166212])\n"
      ],
      "execution_count": 17,
      "outputs": []
    },
    {
      "cell_type": "code",
      "metadata": {
        "id": "gcrNrguAoMKQ"
      },
      "source": [
        "times_hdb = np.array([0.021884, 0.017642, 0.101064, 0.223361, 4.075087, 3.76294]) #gpu"
      ],
      "execution_count": null,
      "outputs": []
    },
    {
      "cell_type": "code",
      "metadata": {
        "colab": {
          "base_uri": "https://localhost:8080/"
        },
        "id": "Elmq0uKMjaqr",
        "outputId": "614f655a-b73a-4bae-e157-dbedac94f61b"
      },
      "source": [
        "hdbscan_ = hdbscan.HDBSCAN()\n",
        "times_hdb = benchmark(dataset_sizes,2,hdbscan_.fit,{})\n",
        "times_hdb"
      ],
      "execution_count": 12,
      "outputs": [
        {
          "output_type": "execute_result",
          "data": {
            "text/plain": [
              "[0.021884, 0.017642, 0.101064, 0.223361, 4.075087, 3.76294]"
            ]
          },
          "metadata": {
            "tags": []
          },
          "execution_count": 12
        }
      ]
    },
    {
      "cell_type": "code",
      "metadata": {
        "colab": {
          "base_uri": "https://localhost:8080/",
          "height": 313
        },
        "id": "Z78iQk27ZixU",
        "outputId": "0ace8d39-2ce3-4164-8411-a7474cbe45f8"
      },
      "source": [
        "sns.regplot(x=dataset_sizes, y= times_db, label = 'Custom DBSCAN')\n",
        "sns.regplot(x=dataset_sizes,y=times_db_sklearn,label ='Sklearn DBSCAN')\n",
        "sns.regplot(x=dataset_sizes, y= times_hdb, label ='HDBSCAN')\n",
        "plt.gca().set_xlabel(\"Dataset's size\")\n",
        "plt.gca().set_ylabel('Time taken to cluster (s)')\n",
        "plt.title('Performance Comparison of DBSCAN Algorithms')\n",
        "plt.legend()"
      ],
      "execution_count": 23,
      "outputs": [
        {
          "output_type": "execute_result",
          "data": {
            "text/plain": [
              "<matplotlib.legend.Legend at 0x7f204d582450>"
            ]
          },
          "metadata": {
            "tags": []
          },
          "execution_count": 23
        },
        {
          "output_type": "display_data",
          "data": {
            "image/png": "[encoded data removed]",
            "text/plain": [
              "<Figure size 432x288 with 1 Axes>"
            ]
          },
          "metadata": {
            "tags": [],
            "needs_background": "light"
          }
        }
      ]
    },
    {
      "cell_type": "markdown",
      "metadata": {
        "id": "nKeVxE-Sp968"
      },
      "source": [
        "# Device Specs for Colab"
      ]
    },
    {
      "cell_type": "code",
      "metadata": {
        "id": "8SJqpivRr3B3",
        "colab": {
          "base_uri": "https://localhost:8080/",
          "height": 36
        },
        "outputId": "544856d2-2533-490b-e700-c75dcff0600a"
      },
      "source": [
        "import platform\n",
        "platform.platform()"
      ],
      "execution_count": 21,
      "outputs": [
        {
          "output_type": "execute_result",
          "data": {
            "application/vnd.google.colaboratory.intrinsic+json": {
              "type": "string"
            },
            "text/plain": [
              "'Linux-5.4.104+-x86_64-with-Ubuntu-18.04-bionic'"
            ]
          },
          "metadata": {
            "tags": []
          },
          "execution_count": 21
        }
      ]
    },
    {
      "cell_type": "code",
      "metadata": {
        "colab": {
          "base_uri": "https://localhost:8080/"
        },
        "id": "GfjKGc7BoUXO",
        "outputId": "16e42450-4ff5-41b6-a21b-fb2c4724da50"
      },
      "source": [
        "%tensorflow_version 2.x\n",
        "import tensorflow as tf\n",
        "device_name = tf.test.gpu_device_name()\n",
        "if device_name != '/device:GPU:0':\n",
        "  raise SystemError('GPU device not found')\n",
        "print('Found GPU at: {}'.format(device_name))"
      ],
      "execution_count": 13,
      "outputs": [
        {
          "output_type": "stream",
          "text": [
            "Found GPU at: /device:GPU:0\n"
          ],
          "name": "stdout"
        }
      ]
    },
    {
      "cell_type": "code",
      "metadata": {
        "colab": {
          "base_uri": "https://localhost:8080/"
        },
        "id": "NukIEWYCoU_U",
        "outputId": "0490ec77-bc4c-4eee-ba0b-533b125b11ff"
      },
      "source": [
        "!df -h"
      ],
      "execution_count": 14,
      "outputs": [
        {
          "output_type": "stream",
          "text": [
            "Filesystem      Size  Used Avail Use% Mounted on\n",
            "overlay          69G   39G   30G  57% /\n",
            "tmpfs            64M     0   64M   0% /dev\n",
            "tmpfs           6.4G     0  6.4G   0% /sys/fs/cgroup\n",
            "shm             5.8G   40K  5.8G   1% /dev/shm\n",
            "tmpfs           6.4G   44K  6.4G   1% /var/colab\n",
            "/dev/sda1        76G   42G   35G  55% /opt/bin\n",
            "tmpfs           6.4G     0  6.4G   0% /proc/acpi\n",
            "tmpfs           6.4G     0  6.4G   0% /proc/scsi\n",
            "tmpfs           6.4G     0  6.4G   0% /sys/firmware\n",
            "drive            15G   13G  2.6G  84% /gdrive\n"
          ],
          "name": "stdout"
        }
      ]
    },
    {
      "cell_type": "code",
      "metadata": {
        "colab": {
          "base_uri": "https://localhost:8080/"
        },
        "id": "KXjA9HsrocMr",
        "outputId": "7abddd95-a138-4ada-eb98-4ca8a39de3fc"
      },
      "source": [
        "!cat /proc/cpuinfo"
      ],
      "execution_count": 15,
      "outputs": [
        {
          "output_type": "stream",
          "text": [
            "processor\t: 0\n",
            "vendor_id\t: GenuineIntel\n",
            "cpu family\t: 6\n",
            "model\t\t: 79\n",
            "model name\t: Intel(R) Xeon(R) CPU @ 2.20GHz\n",
            "stepping\t: 0\n",
            "microcode\t: 0x1\n",
            "cpu MHz\t\t: 2199.998\n",
            "cache size\t: 56320 KB\n",
            "physical id\t: 0\n",
            "siblings\t: 2\n",
            "core id\t\t: 0\n",
            "cpu cores\t: 1\n",
            "apicid\t\t: 0\n",
            "initial apicid\t: 0\n",
            "fpu\t\t: yes\n",
            "fpu_exception\t: yes\n",
            "cpuid level\t: 13\n",
            "wp\t\t: yes\n",
            "flags\t\t: fpu vme de pse tsc msr pae mce cx8 apic sep mtrr pge mca cmov pat pse36 clflush mmx fxsr sse sse2 ss ht syscall nx pdpe1gb rdtscp lm constant_tsc rep_good nopl xtopology nonstop_tsc cpuid tsc_known_freq pni pclmulqdq ssse3 fma cx16 pcid sse4_1 sse4_2 x2apic movbe popcnt aes xsave avx f16c rdrand hypervisor lahf_lm abm 3dnowprefetch invpcid_single ssbd ibrs ibpb stibp fsgsbase tsc_adjust bmi1 hle avx2 smep bmi2 erms invpcid rtm rdseed adx smap xsaveopt arat md_clear arch_capabilities\n",
            "bugs\t\t: cpu_meltdown spectre_v1 spectre_v2 spec_store_bypass l1tf mds swapgs taa\n",
            "bogomips\t: 4399.99\n",
            "clflush size\t: 64\n",
            "cache_alignment\t: 64\n",
            "address sizes\t: 46 bits physical, 48 bits virtual\n",
            "power management:\n",
            "\n",
            "processor\t: 1\n",
            "vendor_id\t: GenuineIntel\n",
            "cpu family\t: 6\n",
            "model\t\t: 79\n",
            "model name\t: Intel(R) Xeon(R) CPU @ 2.20GHz\n",
            "stepping\t: 0\n",
            "microcode\t: 0x1\n",
            "cpu MHz\t\t: 2199.998\n",
            "cache size\t: 56320 KB\n",
            "physical id\t: 0\n",
            "siblings\t: 2\n",
            "core id\t\t: 0\n",
            "cpu cores\t: 1\n",
            "apicid\t\t: 1\n",
            "initial apicid\t: 1\n",
            "fpu\t\t: yes\n",
            "fpu_exception\t: yes\n",
            "cpuid level\t: 13\n",
            "wp\t\t: yes\n",
            "flags\t\t: fpu vme de pse tsc msr pae mce cx8 apic sep mtrr pge mca cmov pat pse36 clflush mmx fxsr sse sse2 ss ht syscall nx pdpe1gb rdtscp lm constant_tsc rep_good nopl xtopology nonstop_tsc cpuid tsc_known_freq pni pclmulqdq ssse3 fma cx16 pcid sse4_1 sse4_2 x2apic movbe popcnt aes xsave avx f16c rdrand hypervisor lahf_lm abm 3dnowprefetch invpcid_single ssbd ibrs ibpb stibp fsgsbase tsc_adjust bmi1 hle avx2 smep bmi2 erms invpcid rtm rdseed adx smap xsaveopt arat md_clear arch_capabilities\n",
            "bugs\t\t: cpu_meltdown spectre_v1 spectre_v2 spec_store_bypass l1tf mds swapgs taa\n",
            "bogomips\t: 4399.99\n",
            "clflush size\t: 64\n",
            "cache_alignment\t: 64\n",
            "address sizes\t: 46 bits physical, 48 bits virtual\n",
            "power management:\n",
            "\n"
          ],
          "name": "stdout"
        }
      ]
    },
    {
      "cell_type": "code",
      "metadata": {
        "colab": {
          "base_uri": "https://localhost:8080/"
        },
        "id": "oI_v2paOon97",
        "outputId": "76ab02e3-529b-48f4-c746-9a920fc0ea39"
      },
      "source": [
        "!cat /proc/meminfo"
      ],
      "execution_count": 17,
      "outputs": [
        {
          "output_type": "stream",
          "text": [
            "MemTotal:       13305368 kB\n",
            "MemFree:          212700 kB\n",
            "MemAvailable:   11786492 kB\n",
            "Buffers:           63648 kB\n",
            "Cached:          1384292 kB\n",
            "SwapCached:            0 kB\n",
            "Active:          2182964 kB\n",
            "Inactive:       10509720 kB\n",
            "Active(anon):     925344 kB\n",
            "Inactive(anon):    10708 kB\n",
            "Active(file):    1257620 kB\n",
            "Inactive(file): 10499012 kB\n",
            "Unevictable:           0 kB\n",
            "Mlocked:               0 kB\n",
            "SwapTotal:             0 kB\n",
            "SwapFree:              0 kB\n",
            "Dirty:               496 kB\n",
            "Writeback:             0 kB\n",
            "AnonPages:      11244776 kB\n",
            "Mapped:           595236 kB\n",
            "Shmem:             11460 kB\n",
            "KReclaimable:     117268 kB\n",
            "Slab:             173968 kB\n",
            "SReclaimable:     117268 kB\n",
            "SUnreclaim:        56700 kB\n",
            "KernelStack:        5872 kB\n",
            "PageTables:        39884 kB\n",
            "NFS_Unstable:          0 kB\n",
            "Bounce:                0 kB\n",
            "WritebackTmp:          0 kB\n",
            "CommitLimit:     6652684 kB\n",
            "Committed_AS:   19689884 kB\n",
            "VmallocTotal:   34359738367 kB\n",
            "VmallocUsed:       52176 kB\n",
            "VmallocChunk:          0 kB\n",
            "Percpu:             1400 kB\n",
            "AnonHugePages:      4096 kB\n",
            "ShmemHugePages:        0 kB\n",
            "ShmemPmdMapped:        0 kB\n",
            "FileHugePages:         0 kB\n",
            "FilePmdMapped:         0 kB\n",
            "CmaTotal:              0 kB\n",
            "CmaFree:               0 kB\n",
            "HugePages_Total:       0\n",
            "HugePages_Free:        0\n",
            "HugePages_Rsvd:        0\n",
            "HugePages_Surp:        0\n",
            "Hugepagesize:       2048 kB\n",
            "Hugetlb:               0 kB\n",
            "DirectMap4k:      269512 kB\n",
            "DirectMap2M:    10215424 kB\n",
            "DirectMap1G:     5242880 kB\n"
          ],
          "name": "stdout"
        }
      ]
    },
    {
      "cell_type": "code",
      "metadata": {
        "colab": {
          "base_uri": "https://localhost:8080/"
        },
        "id": "IaLlAFYgoyoM",
        "outputId": "17999a4d-9daf-4e75-fa09-f4149338b391"
      },
      "source": [
        "#GPU count and name\n",
        "!nvidia-smi -L"
      ],
      "execution_count": 18,
      "outputs": [
        {
          "output_type": "stream",
          "text": [
            "GPU 0: Tesla T4 (UUID: GPU-2e42d934-c42b-5df1-b380-a33d573462e2)\n"
          ],
          "name": "stdout"
        }
      ]
    },
    {
      "cell_type": "code",
      "metadata": {
        "colab": {
          "base_uri": "https://localhost:8080/"
        },
        "id": "C6A2itOHo308",
        "outputId": "ac16b5f3-5cba-4f2a-ebe5-068f6af3e6eb"
      },
      "source": [
        "!nvidia-smi"
      ],
      "execution_count": 19,
      "outputs": [
        {
          "output_type": "stream",
          "text": [
            "Wed Jun 16 11:45:05 2021       \n",
            "+-----------------------------------------------------------------------------+\n",
            "| NVIDIA-SMI 465.27       Driver Version: 460.32.03    CUDA Version: 11.2     |\n",
            "|-------------------------------+----------------------+----------------------+\n",
            "| GPU  Name        Persistence-M| Bus-Id        Disp.A | Volatile Uncorr. ECC |\n",
            "| Fan  Temp  Perf  Pwr:Usage/Cap|         Memory-Usage | GPU-Util  Compute M. |\n",
            "|                               |                      |               MIG M. |\n",
            "|===============================+======================+======================|\n",
            "|   0  Tesla T4            Off  | 00000000:00:04.0 Off |                    0 |\n",
            "| N/A   57C    P0    28W /  70W |    222MiB / 15109MiB |      0%      Default |\n",
            "|                               |                      |                  N/A |\n",
            "+-------------------------------+----------------------+----------------------+\n",
            "                                                                               \n",
            "+-----------------------------------------------------------------------------+\n",
            "| Processes:                                                                  |\n",
            "|  GPU   GI   CI        PID   Type   Process name                  GPU Memory |\n",
            "|        ID   ID                                                   Usage      |\n",
            "|=============================================================================|\n",
            "+-----------------------------------------------------------------------------+\n"
          ],
          "name": "stdout"
        }
      ]
    },
    {
      "cell_type": "code",
      "metadata": {
        "id": "OQsC28kno5nW"
      },
      "source": [
        ""
      ],
      "execution_count": null,
      "outputs": []
    }
  ]
}